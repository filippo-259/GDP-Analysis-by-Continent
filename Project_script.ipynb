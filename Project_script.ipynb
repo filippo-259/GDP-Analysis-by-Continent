{
 "cells": [
  {
   "cell_type": "markdown",
   "id": "8c783e7b",
   "metadata": {},
   "source": [
    "# GDP per continent\n",
    "\n",
    "The task involves analyzing the Gross Domestic Product (GDP) values for each country as listed on the Wikipedia page List of countries by GDP (nominal).\n",
    "The objective of this analysis is to see whether Europe is the continent with the highest GDP."
   ]
  },
  {
   "cell_type": "code",
   "execution_count": 1,
   "id": "58a4db15",
   "metadata": {},
   "outputs": [
    {
     "name": "stdout",
     "output_type": "stream",
     "text": [
      "Africa: 2.82 million US$\n",
      "Americas: 38.15 million US$\n",
      "Asia: 36.06 million US$\n",
      "Europe: 26.45 million US$\n",
      "Oceania: 2.09 million US$\n",
      "\n",
      "Continent with the highest GDP: Americas\n",
      "Has Europe the highest GDP? False\n"
     ]
    }
   ],
   "source": [
    "import requests\n",
    "from bs4 import BeautifulSoup\n",
    "import pandas as pd\n",
    "\n",
    "url = \"https://en.wikipedia.org/wiki/List_of_countries_by_GDP_(nominal)\" # URL of the Wikipedia page\n",
    "response = requests.get(url)\n",
    "soup = BeautifulSoup(response.content, 'html.parser')\n",
    "table = soup.find('table', {'class': 'wikitable'}) # Find the table containing the GDP data\n",
    "\n",
    "gdp_data = []\n",
    "for row in table.find_all('tr')[1:]: # Extract each row in the table, skipping the header\n",
    "    cells = row.find_all('td')\n",
    "    if len(cells) > 3:\n",
    "        country = cells[0].text.strip()\n",
    "        if country == \"World\": # Skip the 'World' row\n",
    "            continue\n",
    "        continent = cells[1].text.strip()\n",
    "        gdp_str = cells[2].text.strip().replace(',', '').replace('$', '')\n",
    "        try:\n",
    "            gdp = float(gdp_str)\n",
    "        except ValueError:\n",
    "            gdp = 0  # Manage cases where GDP data is missing\n",
    "        gdp_data.append((country, gdp, continent))\n",
    "\n",
    "df = pd.DataFrame(gdp_data, columns=['Country', 'GDP', 'Continent']).dropna(subset=['Continent']) # Create a DataFrame from the GDP data\n",
    "gdp_by_continent = df.groupby('Continent')['GDP'].sum().reset_index() # Aggregate GDP by continent\n",
    "\n",
    "for _, row in gdp_by_continent.iterrows():  # Print the aggregated GDP by continent\n",
    "    print(f\"{row['Continent']}: {row['GDP'] / 1e6:.2f} million US$\")\n",
    "\n",
    "if not gdp_by_continent.empty:  # Check if Europe has the highest GDP\n",
    "    highest_gdp_continent = gdp_by_continent.loc[gdp_by_continent['GDP'].idxmax(), 'Continent']\n",
    "    print(\"\\nContinent with the highest GDP:\", highest_gdp_continent)\n",
    "    print(\"Has Europe the highest GDP?\", highest_gdp_continent == \"Europe\")\n",
    "else:\n",
    "    print(\"No data available to determine the continent with the highest GDP.\")\n"
   ]
  },
  {
   "cell_type": "code",
   "execution_count": null,
   "id": "92761ed7",
   "metadata": {},
   "outputs": [],
   "source": []
  }
 ],
 "metadata": {
  "kernelspec": {
   "display_name": "Python 3 (ipykernel)",
   "language": "python",
   "name": "python3"
  },
  "language_info": {
   "codemirror_mode": {
    "name": "ipython",
    "version": 3
   },
   "file_extension": ".py",
   "mimetype": "text/x-python",
   "name": "python",
   "nbconvert_exporter": "python",
   "pygments_lexer": "ipython3",
   "version": "3.11.7"
  }
 },
 "nbformat": 4,
 "nbformat_minor": 5
}
